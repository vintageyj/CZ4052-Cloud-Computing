{
 "cells": [
  {
   "cell_type": "code",
   "execution_count": 1,
   "metadata": {},
   "outputs": [
    {
     "name": "stdout",
     "output_type": "stream",
     "text": [
      "1\n",
      "4\n",
      "1\n",
      "1\n",
      "12\n"
     ]
    },
    {
     "ename": "KeyboardInterrupt",
     "evalue": "",
     "output_type": "error",
     "traceback": [
      "\u001b[1;31m---------------------------------------------------------------------------\u001b[0m",
      "\u001b[1;31mKeyboardInterrupt\u001b[0m                         Traceback (most recent call last)",
      "Cell \u001b[1;32mIn[1], line 17\u001b[0m\n\u001b[0;32m     15\u001b[0m \u001b[38;5;28mprint\u001b[39m(hcf(\u001b[38;5;241m17\u001b[39m, \u001b[38;5;241m5\u001b[39m))  \u001b[38;5;66;03m# Output should be 1\u001b[39;00m\n\u001b[0;32m     16\u001b[0m \u001b[38;5;28mprint\u001b[39m(hcf(\u001b[38;5;241m24\u001b[39m, \u001b[38;5;241m36\u001b[39m))  \u001b[38;5;66;03m# Output should be 12\u001b[39;00m\n\u001b[1;32m---> 17\u001b[0m \u001b[38;5;28mprint\u001b[39m(\u001b[43mhcf\u001b[49m\u001b[43m(\u001b[49m\u001b[38;5;241;43m0\u001b[39;49m\u001b[43m,\u001b[49m\u001b[43m \u001b[49m\u001b[38;5;241;43m5\u001b[39;49m\u001b[43m)\u001b[49m)  \u001b[38;5;66;03m# Output should be 5\u001b[39;00m\n\u001b[0;32m     18\u001b[0m \u001b[38;5;28mprint\u001b[39m(hcf(\u001b[38;5;241m7\u001b[39m, \u001b[38;5;241m0\u001b[39m))  \u001b[38;5;66;03m# Output should be 7\u001b[39;00m\n",
      "Cell \u001b[1;32mIn[1], line 2\u001b[0m, in \u001b[0;36mhcf\u001b[1;34m(a, b)\u001b[0m\n\u001b[0;32m      1\u001b[0m \u001b[38;5;28;01mdef\u001b[39;00m \u001b[38;5;21mhcf\u001b[39m(a, b):\n\u001b[1;32m----> 2\u001b[0m     \u001b[38;5;28;01mwhile\u001b[39;00m \u001b[43ma\u001b[49m\u001b[43m \u001b[49m\u001b[38;5;241;43m!=\u001b[39;49m\u001b[43m \u001b[49m\u001b[43mb\u001b[49m:\n\u001b[0;32m      3\u001b[0m         \u001b[38;5;28;01mif\u001b[39;00m a \u001b[38;5;241m>\u001b[39m b:\n\u001b[0;32m      4\u001b[0m             a \u001b[38;5;241m=\u001b[39m a \u001b[38;5;241m-\u001b[39m b\n",
      "\u001b[1;31mKeyboardInterrupt\u001b[0m: "
     ]
    }
   ],
   "source": [
    "def hcf(a, b):\n",
    "    while a != b:\n",
    "        if a > b:\n",
    "            a = a - b\n",
    "        else:\n",
    "            temp = a\n",
    "            a = b\n",
    "            b = temp\n",
    "    return a\n",
    "\n",
    "\n",
    "print(hcf(1, 2)) # Output should be 1\n",
    "print(hcf(12, 8))  # Output should be 4\n",
    "print(hcf(13, 5))  # Output should be 1\n",
    "print(hcf(17, 5))  # Output should be 1\n",
    "print(hcf(24, 36))  # Output should be 12\n",
    "print(hcf(0, 5))  # Output should be 5\n",
    "print(hcf(7, 0))  # Output should be 7"
   ]
  },
  {
   "cell_type": "markdown",
   "metadata": {},
   "source": [
    "# Q3 HCF - Binary Algorithm"
   ]
  },
  {
   "cell_type": "code",
   "execution_count": 7,
   "metadata": {},
   "outputs": [
    {
     "name": "stdout",
     "output_type": "stream",
     "text": [
      "1\n",
      "4\n",
      "1\n",
      "1\n",
      "12\n",
      "5\n",
      "7\n"
     ]
    }
   ],
   "source": [
    "\"\"\"\n",
    "By repeatedly applying following identities, the Binary HCF algorithm simplifies the task of determining the HCF of two non-negative numbers a and b:\n",
    "\n",
    "For instance, the HCF of 0 and a is simply a, since a is the greatest number that divides a.\n",
    "Likewise, the HCF of b and 0 is b.\n",
    "When both a and b are even, the HCF is twice the HCF of a/2 and b/2.\n",
    "If b is even and a is odd, the HCF is the same as that of b/2 and a,\n",
    "and if b is odd and a is even, the HCF is the same as that of b and a/2.\n",
    "If both a and b are odd, the HCF equals the HCF of |b-a| and the smaller of b and a.\n",
    "\"\"\"\n",
    "\n",
    "def hcf(a, b):\n",
    "    if a == b:\n",
    "        return a\n",
    "    if a == 0:\n",
    "        return b\n",
    "    if b == 0:\n",
    "        return a\n",
    "    if (~b & 1) == 1: # This line checks if b is even using bitwise operations\n",
    "        if (a & 1) == 1: # This should check if a is odd using bitwise operations ################### MODIFIED LINE ###################\n",
    "            return hcf(a, b >> 1) # If b is even and a is odd, then the HCF is the same as that of b/2 and a ################### MODIFIED LINE ###################\n",
    "        else: # When both a and b are even, \n",
    "            return (hcf(a >> 1, b >> 1) << 1) # the HCF is twice the HCF of a/2 and b/2\n",
    "    if (~a & 1) == 1: # This line checks if a is even using bitwise operations\n",
    "        return hcf(a >> 1, b) # If a is even and b is odd, then the HCF is the same as that of b and a/2 ################### MODIFIED LINE ###################\n",
    "    if a < b: # If both a and b are odd, the HCF equals the HCF of |b-a| and the smaller of b and a\n",
    "        return hcf((b-a), a) ################### MODIFIED LINE ###################\n",
    "    return hcf((a-b), b) ################### MODIFIED LINE ###################\n",
    "\n",
    "print(hcf(1, 2)) # Output should be 1\n",
    "\n",
    "\n",
    "print(hcf(12, 8))  # Output should be 4\n",
    "print(hcf(13, 5))  # Output should be 1\n",
    "print(hcf(17, 5))  # Output should be 1\n",
    "print(hcf(24, 36))  # Output should be 12\n",
    "print(hcf(0, 5))  # Output should be 5\n",
    "print(hcf(7, 0))  # Output should be 7\n",
    "\n",
    "\n",
    "\n"
   ]
  },
  {
   "cell_type": "code",
   "execution_count": 16,
   "metadata": {},
   "outputs": [
    {
     "name": "stdout",
     "output_type": "stream",
     "text": [
      "1\n",
      "4\n",
      "1\n",
      "1\n",
      "12\n",
      "5\n",
      "7\n"
     ]
    }
   ],
   "source": [
    "\"\"\"\n",
    "The brute force method for finding the HCF of two positive integers a, b involves selecting the smaller number between \n",
    "the two and checking every positive integer from 1 up to and including that number to see if it divides both a and b \n",
    "without leaving a remainder. The greatest value of i that satisfies this condition is the HCF of a and b.\n",
    "\"\"\"\n",
    "\n",
    "# def hcf(a, b):\n",
    "#     hcf, i = 1, 1\n",
    "#     while i <= a and i <= b:\n",
    "#         if a % i == 0 and b % i == 0:\n",
    "#             hcf = i\n",
    "#         i = i + 1\n",
    "#     return hcf\n",
    "\n",
    "def hcf(a, b):\n",
    "    hcf, i = 1, 1\n",
    "    while i <= a or i <= b: # Needs to be OR operator instead of AND operator\n",
    "        if a % i == 0 and b % i == 0: # Needs to be AND operator instead of OR operator\n",
    "            hcf = i\n",
    "        i = i + 1\n",
    "    return hcf # Needs to return hcf instead of i\n",
    "\n",
    "print(hcf(1, 2)) # Output should be 1\n",
    "print(hcf(12, 8))  # Output should be 4\n",
    "print(hcf(13, 5))  # Output should be 1\n",
    "print(hcf(17, 5))  # Output should be 1\n",
    "print(hcf(24, 36))  # Output should be 12\n",
    "print(hcf(0, 5))  # Output should be 5\n",
    "print(hcf(7, 0))  # Output should be 7"
   ]
  },
  {
   "cell_type": "markdown",
   "metadata": {},
   "source": [
    "# Q5 LCM of Two Numbers"
   ]
  },
  {
   "cell_type": "code",
   "execution_count": 24,
   "metadata": {},
   "outputs": [
    {
     "name": "stdout",
     "output_type": "stream",
     "text": [
      "24\n",
      "65\n",
      "85\n",
      "72\n",
      "None\n",
      "None\n",
      "2\n",
      "6\n"
     ]
    }
   ],
   "source": [
    "\"\"\"\n",
    "The LCM (Least Common Multiple) of two numbers a, b refers to the minimum number that is evenly divisible by both of the given numbers. \n",
    "This implementation of finding the LCM of a, b using a conditional for loop is to first determine which number is greater, \n",
    "and then set it as the starting point for the loop. From there, it can iterate through the multiples of this number and check if each multiple is also divisible by the other number. \n",
    "Once it identifies a multiple that satisfies both conditions, that number is the LCM of a, b.\n",
    "\"\"\"\n",
    "\n",
    "def lcm(a, b):\n",
    "    x = max(a, b)\n",
    "    y = min(a, b)\n",
    "    for i in range(x, a * b + 1, x): # Needs to start from x\n",
    "        if i % y == 0: ## Needs to be y instead of x\n",
    "            return i\n",
    "        \n",
    "print(lcm(12, 8))  # Output should be 24\n",
    "print(lcm(13, 5))  # Output should be 65\n",
    "print(lcm(17, 5))  # Output should be 85\n",
    "print(lcm(24, 36))  # Output should be 72\n",
    "print(lcm(0, 5))  # Output should be 0\n",
    "print(lcm(7, 0))  # Output should be 0\n",
    "print(lcm(1, 2)) # Output should be 2\n",
    "print(lcm(2, 3)) # Output should be 6"
   ]
  },
  {
   "cell_type": "markdown",
   "metadata": {},
   "source": [
    "# Q6 LCM of Three Numbers"
   ]
  },
  {
   "cell_type": "code",
   "execution_count": 5,
   "metadata": {},
   "outputs": [
    {
     "name": "stdout",
     "output_type": "stream",
     "text": [
      "18\n",
      "72\n",
      "70\n"
     ]
    }
   ],
   "source": [
    "\"\"\"\n",
    "To find the LCM of three numbers a, b, c using HCF are shown below. It first finds the HCF of any two of the given numbers. \n",
    "Then divide each of the given numbers by the HCF and multiply the HCF by all of the obtained quotients and any remaining numbers that have not been factored out. \n",
    "The resulting product will give the LCM of all the given numbers.\n",
    "\"\"\"\n",
    "\n",
    "def hcf(a, b): # Works fine\n",
    "    while b:\n",
    "        c = b\n",
    "        b = a % b\n",
    "        a = c\n",
    "    return a\n",
    "def lcm2(a, b): \n",
    "    c = b // hcf(a, b)\n",
    "    return c * a # Needs to be c * b instead of c * a\n",
    "def lcm3(a, b, c):\n",
    "    x = lcm2(b, c) # Just need to use lcm2\n",
    "    y = lcm2(a, x) # Just need to use lcm2\n",
    "    return y  # Just need to return y\n",
    "\n",
    "print(lcm3(6, 9, 18))  # Output should be 18\n",
    "print(lcm3(12, 18, 24))  # Output should be 72\n",
    "print(lcm3(7, 5, 70))  # Output should be 72"
   ]
  },
  {
   "cell_type": "markdown",
   "metadata": {},
   "source": [
    "# Q8 Diffie-Hellman Key Exchange Algorithm"
   ]
  },
  {
   "cell_type": "code",
   "execution_count": 34,
   "metadata": {},
   "outputs": [
    {
     "name": "stdout",
     "output_type": "stream",
     "text": [
      "9\n",
      "9\n",
      "6\n"
     ]
    }
   ],
   "source": [
    "\"\"\"\n",
    "The Diffie-Hellman key exchange algorithm allows two parties to securely share a secret key over an unsecured communication channel. \n",
    "This shared key can then be used for secure communication between the two.\n",
    "\"\"\"\n",
    "\n",
    "def diffie_hellman_problematic(p, g, private_a, private_b):\n",
    "    public_a = g ** private_a % p\n",
    "    public_b = g ** private_b % p\n",
    "    shared_secret_by_alice = g ** (public_a * private_b) % p # Needs to be g^(ab) % p\n",
    "    shared_secret_by_bob = g ** (public_a * private_b) % p # Needs to be g^(ab) % p\n",
    "    return shared_secret_by_alice #Returning Alice's shared secret\n",
    "\n",
    "# Test case 1\n",
    "print(diffie_hellman_problematic(23, 5, 6, 15)) # Output should be 8\n",
    "# Test case 2\n",
    "print(diffie_hellman_problematic(23, 5, 2, 9)) # Output should be 19"
   ]
  },
  {
   "cell_type": "markdown",
   "metadata": {},
   "source": [
    "# Q9 RSA Key Generation"
   ]
  },
  {
   "cell_type": "code",
   "execution_count": 22,
   "metadata": {},
   "outputs": [
    {
     "name": "stdout",
     "output_type": "stream",
     "text": [
      "1\n",
      "((119, 11), (119, 35))\n"
     ]
    }
   ],
   "source": [
    "\"\"\"\n",
    "RSA key generation is the first step in setting up RSA encryption. It involves selecting two large prime numbers, \n",
    "calculating their product to get the modulus n, and finding two key exponents, e and d, that satisfy certain mathematical properties.\n",
    "\"\"\"\n",
    "\n",
    "import random\n",
    "import sympy\n",
    "def generate_rsa_keys():\n",
    "    p = 7 # Needs to be a large prime number\n",
    "    q = 17 # Needs to be a large prime number\n",
    "    n = p * q\n",
    "    phi = (p-1) * (q-1)\n",
    "    e = e = random.choice([i for i in range(2, phi) if sympy.gcd(i, phi) == 1])\n",
    "    d = sympy.mod_inverse(e, phi)\n",
    "    print((d*e) % phi)\n",
    "    return (n, e), (n, d) # (n, e) is private key; (n, d) is public key\n",
    "\n",
    "print(generate_rsa_keys()) # Output should be ((2, 3), (2, 1))"
   ]
  },
  {
   "cell_type": "code",
   "execution_count": 6,
   "metadata": {},
   "outputs": [
    {
     "name": "stdout",
     "output_type": "stream",
     "text": [
      "[3, 7, 9]\n"
     ]
    }
   ],
   "source": [
    "import sympy\n",
    "\n",
    "phi = 10  # Example value for phi, replace with your actual value\n",
    "\n",
    "# List comprehension to generate a list of integers with gcd equal to 1 with phi\n",
    "result_list = [i for i in range(2, phi) if sympy.gcd(i, phi) == 1]\n",
    "\n",
    "print(result_list)\n"
   ]
  },
  {
   "cell_type": "markdown",
   "metadata": {},
   "source": [
    "# Q10 Digital Signatures"
   ]
  },
  {
   "cell_type": "code",
   "execution_count": 30,
   "metadata": {},
   "outputs": [
    {
     "name": "stdout",
     "output_type": "stream",
     "text": [
      "publicKey_Hello, world!\n",
      "True\n"
     ]
    }
   ],
   "source": [
    "\"\"\"\n",
    "Digital signatures ensure the authenticity and integrity of a message by allowing the sender to sign a message with their private key. \n",
    "The recipient can then use the sender's public key to verify the signature. This process ensures that the message has not been altered and comes from the specified sender. \n",
    "Examine the following pseudocode for generating and verifying a digital signature.\n",
    "\"\"\"\n",
    "\n",
    "def generate_signature(message, privateKey): # When A sends to B, A uses B’s public key to encrypt, so the message is confidential \n",
    "    signature = privateKey + message # Needs to encript privateKey\n",
    "    return signature\n",
    "def verify_signature(message, signature, publicKey):\n",
    "    if publicKey in signature and message in signature: # Needs to decrypt publicKey\n",
    "        return True\n",
    "    else:\n",
    "        return False\n",
    "privateKey = 'privateKey_'\n",
    "publicKey = 'publicKey_'\n",
    "message = \"Hello, world!\"\n",
    "signature = generate_signature(message, publicKey)\n",
    "isValid = verify_signature(message, signature, publicKey)\n",
    "\n",
    "print(signature) # Output should be privateKey_Hello, world!   \n",
    "print(isValid) # Output should be True"
   ]
  }
 ],
 "metadata": {
  "kernelspec": {
   "display_name": "cloudcomputing",
   "language": "python",
   "name": "python3"
  },
  "language_info": {
   "codemirror_mode": {
    "name": "ipython",
    "version": 3
   },
   "file_extension": ".py",
   "mimetype": "text/x-python",
   "name": "python",
   "nbconvert_exporter": "python",
   "pygments_lexer": "ipython3",
   "version": "3.10.4"
  }
 },
 "nbformat": 4,
 "nbformat_minor": 2
}
