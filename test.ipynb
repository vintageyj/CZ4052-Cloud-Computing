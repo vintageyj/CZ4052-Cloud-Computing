{
 "cells": [
  {
   "cell_type": "code",
   "execution_count": 9,
   "metadata": {},
   "outputs": [
    {
     "name": "stdout",
     "output_type": "stream",
     "text": [
      "<class 'str'>\n",
      "Prediction result: {'Class ID': 118, 'Class Label': 'dhole', 'Confidence': 100.0}\n"
     ]
    }
   ],
   "source": [
    "import requests\n",
    "import base64\n",
    "\n",
    "def predict_image(image_path, endpoint_url):\n",
    "    # Read the image file\n",
    "    with open(image_path, \"rb\") as file:\n",
    "        image_data = file.read()\n",
    "    \n",
    "    # Encode the image data as base64\n",
    "    image_base64 = base64.b64encode(image_data).decode()\n",
    "    print(type(image_base64))\n",
    "    # Construct the payload\n",
    "    payload = {\n",
    "        \"image\": image_base64\n",
    "    }\n",
    "    \n",
    "    # Make the POST request to the API endpoint\n",
    "    response = requests.post(endpoint_url, json=payload)\n",
    "    \n",
    "    # Check if the request was successful \n",
    "    if response.status_code == 200:\n",
    "        result = response.json()\n",
    "        return result\n",
    "    else:\n",
    "        print(\"Error:\", response.text)\n",
    "        return None\n",
    "\n",
    "# Example usage\n",
    "if __name__ == \"__main__\":\n",
    "    image_path = \"../../../dhole.jpeg\"\n",
    "    endpoint_url = \"https://s2bv1eqix2.execute-api.ap-southeast-2.amazonaws.com/production/predict\"\n",
    "    prediction_result = predict_image(image_path, endpoint_url)\n",
    "    if prediction_result:\n",
    "        print(\"Prediction result:\", prediction_result)\n"
   ]
  },
  {
   "cell_type": "code",
   "execution_count": 10,
   "metadata": {},
   "outputs": [
    {
     "name": "stdout",
     "output_type": "stream",
     "text": [
      "Done\n"
     ]
    }
   ],
   "source": [
    "# Upper case all the first letters of the words in the string even after spaces from a labels.txt file\n",
    "def upper_case_words(file_path):\n",
    "    with open(file_path, \"r\") as file:\n",
    "        data = file.read()\n",
    "    data = data.title()\n",
    "    with open(file_path, \"w\") as file:\n",
    "        file.write(data)\n",
    "    print(\"Done\")\n",
    "\n",
    "# Example usage\n",
    "if __name__ == \"__main__\":\n",
    "    file_path = \"labels.txt\"\n",
    "    upper_case_words(file_path)"
   ]
  }
 ],
 "metadata": {
  "kernelspec": {
   "display_name": "cloud",
   "language": "python",
   "name": "python3"
  },
  "language_info": {
   "codemirror_mode": {
    "name": "ipython",
    "version": 3
   },
   "file_extension": ".py",
   "mimetype": "text/x-python",
   "name": "python",
   "nbconvert_exporter": "python",
   "pygments_lexer": "ipython3",
   "version": "3.10.4"
  }
 },
 "nbformat": 4,
 "nbformat_minor": 2
}
